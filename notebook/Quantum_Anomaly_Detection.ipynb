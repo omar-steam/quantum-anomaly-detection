{
  "nbformat": 4,
  "nbformat_minor": 0,
  "metadata": {
    "colab": {
      "provenance": []
    },
    "kernelspec": {
      "name": "python3",
      "display_name": "Python 3"
    },
    "language_info": {
      "name": "python"
    }
  },
  "cells": [
    {
      "cell_type": "code",
      "execution_count": 1,
      "metadata": {
        "colab": {
          "base_uri": "https://localhost:8080/"
        },
        "id": "8al4b7xpDoXb",
        "outputId": "664d8ec4-a9ae-496c-bd95-043884c8f679",
        "collapsed": true
      },
      "outputs": [
        {
          "output_type": "stream",
          "name": "stdout",
          "text": [
            "Collecting qiskit\n",
            "  Downloading qiskit-1.2.4-cp38-abi3-manylinux_2_17_x86_64.manylinux2014_x86_64.whl.metadata (12 kB)\n",
            "Collecting qiskit-machine-learning\n",
            "  Downloading qiskit_machine_learning-0.7.2-py3-none-any.whl.metadata (12 kB)\n",
            "Requirement already satisfied: pandas in /usr/local/lib/python3.10/dist-packages (2.2.2)\n",
            "Requirement already satisfied: numpy in /usr/local/lib/python3.10/dist-packages (1.26.4)\n",
            "Requirement already satisfied: scikit-learn in /usr/local/lib/python3.10/dist-packages (1.5.2)\n",
            "Collecting rustworkx>=0.15.0 (from qiskit)\n",
            "  Downloading rustworkx-0.15.1-cp38-abi3-manylinux_2_17_x86_64.manylinux2014_x86_64.whl.metadata (9.9 kB)\n",
            "Requirement already satisfied: scipy>=1.5 in /usr/local/lib/python3.10/dist-packages (from qiskit) (1.13.1)\n",
            "Requirement already satisfied: sympy>=1.3 in /usr/local/lib/python3.10/dist-packages (from qiskit) (1.13.1)\n",
            "Collecting dill>=0.3 (from qiskit)\n",
            "  Downloading dill-0.3.9-py3-none-any.whl.metadata (10 kB)\n",
            "Requirement already satisfied: python-dateutil>=2.8.0 in /usr/local/lib/python3.10/dist-packages (from qiskit) (2.8.2)\n",
            "Collecting stevedore>=3.0.0 (from qiskit)\n",
            "  Downloading stevedore-5.3.0-py3-none-any.whl.metadata (2.3 kB)\n",
            "Requirement already satisfied: typing-extensions in /usr/local/lib/python3.10/dist-packages (from qiskit) (4.12.2)\n",
            "Collecting symengine<0.14,>=0.11 (from qiskit)\n",
            "  Downloading symengine-0.13.0-cp310-cp310-manylinux_2_17_x86_64.manylinux2014_x86_64.whl.metadata (1.2 kB)\n",
            "Collecting qiskit-algorithms>=0.2.0 (from qiskit-machine-learning)\n",
            "  Downloading qiskit_algorithms-0.3.1-py3-none-any.whl.metadata (4.2 kB)\n",
            "Requirement already satisfied: psutil>=5 in /usr/local/lib/python3.10/dist-packages (from qiskit-machine-learning) (5.9.5)\n",
            "Collecting fastdtw (from qiskit-machine-learning)\n",
            "  Downloading fastdtw-0.3.4.tar.gz (133 kB)\n",
            "\u001b[2K     \u001b[90m━━━━━━━━━━━━━━━━━━━━━━━━━━━━━━━━━━━━━━━━\u001b[0m \u001b[32m133.4/133.4 kB\u001b[0m \u001b[31m12.7 MB/s\u001b[0m eta \u001b[36m0:00:00\u001b[0m\n",
            "\u001b[?25h  Preparing metadata (setup.py) ... \u001b[?25l\u001b[?25hdone\n",
            "Requirement already satisfied: setuptools>=40.1.0 in /usr/local/lib/python3.10/dist-packages (from qiskit-machine-learning) (75.1.0)\n",
            "Requirement already satisfied: pytz>=2020.1 in /usr/local/lib/python3.10/dist-packages (from pandas) (2024.2)\n",
            "Requirement already satisfied: tzdata>=2022.7 in /usr/local/lib/python3.10/dist-packages (from pandas) (2024.2)\n",
            "Requirement already satisfied: joblib>=1.2.0 in /usr/local/lib/python3.10/dist-packages (from scikit-learn) (1.4.2)\n",
            "Requirement already satisfied: threadpoolctl>=3.1.0 in /usr/local/lib/python3.10/dist-packages (from scikit-learn) (3.5.0)\n",
            "Requirement already satisfied: six>=1.5 in /usr/local/lib/python3.10/dist-packages (from python-dateutil>=2.8.0->qiskit) (1.16.0)\n",
            "Collecting pbr>=2.0.0 (from stevedore>=3.0.0->qiskit)\n",
            "  Downloading pbr-6.1.0-py2.py3-none-any.whl.metadata (3.4 kB)\n",
            "Requirement already satisfied: mpmath<1.4,>=1.1.0 in /usr/local/lib/python3.10/dist-packages (from sympy>=1.3->qiskit) (1.3.0)\n",
            "Downloading qiskit-1.2.4-cp38-abi3-manylinux_2_17_x86_64.manylinux2014_x86_64.whl (4.8 MB)\n",
            "\u001b[2K   \u001b[90m━━━━━━━━━━━━━━━━━━━━━━━━━━━━━━━━━━━━━━━━\u001b[0m \u001b[32m4.8/4.8 MB\u001b[0m \u001b[31m85.1 MB/s\u001b[0m eta \u001b[36m0:00:00\u001b[0m\n",
            "\u001b[?25hDownloading qiskit_machine_learning-0.7.2-py3-none-any.whl (97 kB)\n",
            "\u001b[2K   \u001b[90m━━━━━━━━━━━━━━━━━━━━━━━━━━━━━━━━━━━━━━━━\u001b[0m \u001b[32m97.8/97.8 kB\u001b[0m \u001b[31m9.0 MB/s\u001b[0m eta \u001b[36m0:00:00\u001b[0m\n",
            "\u001b[?25hDownloading dill-0.3.9-py3-none-any.whl (119 kB)\n",
            "\u001b[2K   \u001b[90m━━━━━━━━━━━━━━━━━━━━━━━━━━━━━━━━━━━━━━━━\u001b[0m \u001b[32m119.4/119.4 kB\u001b[0m \u001b[31m11.2 MB/s\u001b[0m eta \u001b[36m0:00:00\u001b[0m\n",
            "\u001b[?25hDownloading qiskit_algorithms-0.3.1-py3-none-any.whl (310 kB)\n",
            "\u001b[2K   \u001b[90m━━━━━━━━━━━━━━━━━━━━━━━━━━━━━━━━━━━━━━━━\u001b[0m \u001b[32m310.5/310.5 kB\u001b[0m \u001b[31m24.0 MB/s\u001b[0m eta \u001b[36m0:00:00\u001b[0m\n",
            "\u001b[?25hDownloading rustworkx-0.15.1-cp38-abi3-manylinux_2_17_x86_64.manylinux2014_x86_64.whl (2.0 MB)\n",
            "\u001b[2K   \u001b[90m━━━━━━━━━━━━━━━━━━━━━━━━━━━━━━━━━━━━━━━━\u001b[0m \u001b[32m2.0/2.0 MB\u001b[0m \u001b[31m71.1 MB/s\u001b[0m eta \u001b[36m0:00:00\u001b[0m\n",
            "\u001b[?25hDownloading stevedore-5.3.0-py3-none-any.whl (49 kB)\n",
            "\u001b[2K   \u001b[90m━━━━━━━━━━━━━━━━━━━━━━━━━━━━━━━━━━━━━━━━\u001b[0m \u001b[32m49.7/49.7 kB\u001b[0m \u001b[31m4.5 MB/s\u001b[0m eta \u001b[36m0:00:00\u001b[0m\n",
            "\u001b[?25hDownloading symengine-0.13.0-cp310-cp310-manylinux_2_17_x86_64.manylinux2014_x86_64.whl (49.7 MB)\n",
            "\u001b[2K   \u001b[90m━━━━━━━━━━━━━━━━━━━━━━━━━━━━━━━━━━━━━━━━\u001b[0m \u001b[32m49.7/49.7 MB\u001b[0m \u001b[31m15.7 MB/s\u001b[0m eta \u001b[36m0:00:00\u001b[0m\n",
            "\u001b[?25hDownloading pbr-6.1.0-py2.py3-none-any.whl (108 kB)\n",
            "\u001b[2K   \u001b[90m━━━━━━━━━━━━━━━━━━━━━━━━━━━━━━━━━━━━━━━━\u001b[0m \u001b[32m108.5/108.5 kB\u001b[0m \u001b[31m9.6 MB/s\u001b[0m eta \u001b[36m0:00:00\u001b[0m\n",
            "\u001b[?25hBuilding wheels for collected packages: fastdtw\n",
            "  Building wheel for fastdtw (setup.py) ... \u001b[?25l\u001b[?25hdone\n",
            "  Created wheel for fastdtw: filename=fastdtw-0.3.4-cp310-cp310-linux_x86_64.whl size=512554 sha256=cb942593193828a52c4810e0669ebb1efb7e5e53bbadd404882e1d81345adffe\n",
            "  Stored in directory: /root/.cache/pip/wheels/73/c8/f7/c25448dab74c3acf4848bc25d513c736bb93910277e1528ef4\n",
            "Successfully built fastdtw\n",
            "Installing collected packages: symengine, rustworkx, pbr, fastdtw, dill, stevedore, qiskit, qiskit-algorithms, qiskit-machine-learning\n",
            "Successfully installed dill-0.3.9 fastdtw-0.3.4 pbr-6.1.0 qiskit-1.2.4 qiskit-algorithms-0.3.1 qiskit-machine-learning-0.7.2 rustworkx-0.15.1 stevedore-5.3.0 symengine-0.13.0\n"
          ]
        }
      ],
      "source": [
        "pip install qiskit qiskit-machine-learning pandas numpy scikit-learn"
      ]
    },
    {
      "cell_type": "code",
      "source": [
        "pip install qiskit-aer"
      ],
      "metadata": {
        "colab": {
          "base_uri": "https://localhost:8080/"
        },
        "collapsed": true,
        "id": "kQ_MLjXsGJNP",
        "outputId": "f084994e-5a6d-4c39-8e8f-19e8ea3cc16a"
      },
      "execution_count": 2,
      "outputs": [
        {
          "output_type": "stream",
          "name": "stdout",
          "text": [
            "Collecting qiskit-aer\n",
            "  Downloading qiskit_aer-0.15.1-cp310-cp310-manylinux_2_17_x86_64.manylinux2014_x86_64.whl.metadata (8.0 kB)\n",
            "Requirement already satisfied: qiskit>=1.1.0 in /usr/local/lib/python3.10/dist-packages (from qiskit-aer) (1.2.4)\n",
            "Requirement already satisfied: numpy>=1.16.3 in /usr/local/lib/python3.10/dist-packages (from qiskit-aer) (1.26.4)\n",
            "Requirement already satisfied: scipy>=1.0 in /usr/local/lib/python3.10/dist-packages (from qiskit-aer) (1.13.1)\n",
            "Requirement already satisfied: psutil>=5 in /usr/local/lib/python3.10/dist-packages (from qiskit-aer) (5.9.5)\n",
            "Requirement already satisfied: rustworkx>=0.15.0 in /usr/local/lib/python3.10/dist-packages (from qiskit>=1.1.0->qiskit-aer) (0.15.1)\n",
            "Requirement already satisfied: sympy>=1.3 in /usr/local/lib/python3.10/dist-packages (from qiskit>=1.1.0->qiskit-aer) (1.13.1)\n",
            "Requirement already satisfied: dill>=0.3 in /usr/local/lib/python3.10/dist-packages (from qiskit>=1.1.0->qiskit-aer) (0.3.9)\n",
            "Requirement already satisfied: python-dateutil>=2.8.0 in /usr/local/lib/python3.10/dist-packages (from qiskit>=1.1.0->qiskit-aer) (2.8.2)\n",
            "Requirement already satisfied: stevedore>=3.0.0 in /usr/local/lib/python3.10/dist-packages (from qiskit>=1.1.0->qiskit-aer) (5.3.0)\n",
            "Requirement already satisfied: typing-extensions in /usr/local/lib/python3.10/dist-packages (from qiskit>=1.1.0->qiskit-aer) (4.12.2)\n",
            "Requirement already satisfied: symengine<0.14,>=0.11 in /usr/local/lib/python3.10/dist-packages (from qiskit>=1.1.0->qiskit-aer) (0.13.0)\n",
            "Requirement already satisfied: six>=1.5 in /usr/local/lib/python3.10/dist-packages (from python-dateutil>=2.8.0->qiskit>=1.1.0->qiskit-aer) (1.16.0)\n",
            "Requirement already satisfied: pbr>=2.0.0 in /usr/local/lib/python3.10/dist-packages (from stevedore>=3.0.0->qiskit>=1.1.0->qiskit-aer) (6.1.0)\n",
            "Requirement already satisfied: mpmath<1.4,>=1.1.0 in /usr/local/lib/python3.10/dist-packages (from sympy>=1.3->qiskit>=1.1.0->qiskit-aer) (1.3.0)\n",
            "Downloading qiskit_aer-0.15.1-cp310-cp310-manylinux_2_17_x86_64.manylinux2014_x86_64.whl (12.3 MB)\n",
            "\u001b[2K   \u001b[90m━━━━━━━━━━━━━━━━━━━━━━━━━━━━━━━━━━━━━━━━\u001b[0m \u001b[32m12.3/12.3 MB\u001b[0m \u001b[31m59.9 MB/s\u001b[0m eta \u001b[36m0:00:00\u001b[0m\n",
            "\u001b[?25hInstalling collected packages: qiskit-aer\n",
            "Successfully installed qiskit-aer-0.15.1\n"
          ]
        }
      ]
    },
    {
      "cell_type": "code",
      "source": [
        "# Importing libaries\n",
        "\n",
        "import pandas as pd\n",
        "import numpy as np\n",
        "from sklearn.preprocessing import StandardScaler\n",
        "from sklearn.model_selection import train_test_split\n",
        "from sklearn.metrics import accuracy_score\n",
        "from qiskit_aer import Aer\n",
        "from qiskit.circuit import Parameter\n",
        "from qiskit import QuantumCircuit\n",
        "from qiskit.primitives import Estimator\n",
        "from qiskit.primitives import StatevectorEstimator\n",
        "from qiskit.primitives import Sampler\n",
        "from qiskit_machine_learning.algorithms import VQC\n",
        "from qiskit_machine_learning.neural_networks import EstimatorQNN\n",
        "from scipy.optimize import minimize\n",
        "import time\n",
        "from sklearn.decomposition import PCA\n"
      ],
      "metadata": {
        "id": "LYSJ-Qv4Drmv"
      },
      "execution_count": 3,
      "outputs": []
    },
    {
      "cell_type": "code",
      "source": [
        "from scipy.optimize import minimize\n",
        "from sklearn.metrics import accuracy_score\n",
        "from qiskit import QuantumCircuit\n",
        "from qiskit.circuit import Parameter\n",
        "from qiskit.primitives import Estimator\n",
        "from qiskit_machine_learning.neural_networks import EstimatorQNN"
      ],
      "metadata": {
        "id": "FzmdLLnz0_Zm"
      },
      "execution_count": 4,
      "outputs": []
    },
    {
      "cell_type": "code",
      "source": [
        "# Load and preprocess data first\n",
        "column_names = [\n",
        "    'duration', 'protocol_type', 'service', 'flag', 'src_bytes', 'dst_bytes', 'land',\n",
        "    'wrong_fragment', 'urgent', 'hot', 'num_failed_logins', 'logged_in', 'num_compromised',\n",
        "    'root_shell', 'su_attempted', 'num_root', 'num_file_creations', 'num_shells',\n",
        "    'num_access_files', 'num_outbound_cmds', 'is_host_login', 'is_guest_login', 'count',\n",
        "    'srv_count', 'serror_rate', 'srv_serror_rate', 'rerror_rate', 'srv_rerror_rate',\n",
        "    'same_srv_rate', 'diff_srv_rate', 'srv_diff_host_rate', 'dst_host_count',\n",
        "    'dst_host_srv_count', 'dst_host_same_srv_rate', 'dst_host_diff_srv_rate',\n",
        "    'dst_host_same_src_port_rate', 'dst_host_srv_diff_host_rate', 'dst_host_serror_rate',\n",
        "    'dst_host_srv_serror_rate', 'dst_host_rerror_rate', 'dst_host_srv_rerror_rate', 'label'\n",
        "]\n",
        "\n",
        "# Load data\n",
        "train_data = pd.read_csv('KDDTrain+.txt', names=column_names)\n",
        "test_data = pd.read_csv('KDDTest+.txt', names=column_names)\n",
        "\n",
        "# Select numeric columns for initial analysis\n",
        "numeric_columns = [\n",
        "    'duration', 'src_bytes', 'dst_bytes', 'count', 'srv_count',\n",
        "    'dst_host_srv_count', 'serror_rate', 'srv_serror_rate'\n",
        "]\n",
        "selected_columns = numeric_columns + ['label']\n",
        "\n",
        "# Select the columns\n",
        "train_data = train_data[selected_columns]\n",
        "test_data = test_data[selected_columns]\n",
        "\n",
        "# Convert labels to binary\n",
        "train_data.loc[:, 'label'] = train_data['label'].apply(lambda x: 1 if x != 'normal' else 0)\n",
        "test_data.loc[:, 'label'] = test_data['label'].apply(lambda x: 1 if x != 'normal' else 0)\n",
        "\n",
        "# Convert any string numbers to float\n",
        "for col in numeric_columns:\n",
        "    train_data[col] = pd.to_numeric(train_data[col], errors='coerce')\n",
        "    test_data[col] = pd.to_numeric(test_data[col], errors='coerce')\n",
        "\n",
        "# Fill any NaN values\n",
        "train_data = train_data.fillna(0)\n",
        "test_data = test_data.fillna(0)\n",
        "\n",
        "# Define the data preprocessing function\n",
        "def preprocess_data(X_train, X_test, n_samples=200, n_components=4):\n",
        "    # Scale data\n",
        "    scaler = StandardScaler()\n",
        "    X_train_scaled = scaler.fit_transform(X_train)\n",
        "    X_test_scaled = scaler.transform(X_test)\n",
        "\n",
        "    # Reduce dimensions\n",
        "    pca = PCA(n_components=n_components)\n",
        "    X_train_reduced = pca.fit_transform(X_train_scaled[:n_samples])\n",
        "    X_test_reduced = pca.transform(X_test_scaled)\n",
        "\n",
        "    return X_train_reduced, X_test_reduced\n"
      ],
      "metadata": {
        "id": "k9u5cfrdsBUr"
      },
      "execution_count": 5,
      "outputs": []
    },
    {
      "cell_type": "code",
      "source": [
        "# Enhanced quantum circuit\n",
        "def create_enhanced_circuit(n_qubits):\n",
        "    circuit = QuantumCircuit(n_qubits)\n",
        "    # First rotation layer\n",
        "    for i in range(n_qubits):\n",
        "        circuit.h(i)\n",
        "        circuit.ry(Parameter(f'theta_{i}'), i)\n",
        "\n",
        "    # Entanglement layer\n",
        "    for i in range(n_qubits-1):\n",
        "        circuit.cx(i, i+1)\n",
        "\n",
        "    # Second rotation layer\n",
        "    for i in range(n_qubits):\n",
        "        circuit.ry(Parameter(f'phi_{i}'), i)\n",
        "\n",
        "    return circuit"
      ],
      "metadata": {
        "id": "QyoUGDB0tk8o"
      },
      "execution_count": 6,
      "outputs": []
    },
    {
      "cell_type": "code",
      "source": [
        "# Define the QML Trainer class\n",
        "class QMLTrainer:\n",
        "    def __init__(self, n_qubits, X_train, y_train):\n",
        "        self.feature_map = create_enhanced_circuit(n_qubits)\n",
        "        self.estimator = Estimator()\n",
        "        self.qnn = EstimatorQNN(\n",
        "            circuit=self.feature_map,\n",
        "            input_params=self.feature_map.parameters[:n_qubits],\n",
        "            weight_params=self.feature_map.parameters[n_qubits:],\n",
        "            estimator=self.estimator\n",
        "        )\n",
        "        self.X_train = X_train\n",
        "        self.y_train = y_train\n",
        "        self.best_loss = float('inf')\n",
        "        self.best_weights = None\n",
        "\n",
        "    def loss_fn(self, weights):\n",
        "        try:\n",
        "            y_pred = self.qnn.forward(self.X_train, weights)\n",
        "            loss = -accuracy_score(self.y_train, np.sign(y_pred))\n",
        "\n",
        "            # Update best weights if better loss\n",
        "            if loss < self.best_loss:\n",
        "                self.best_loss = loss\n",
        "                self.best_weights = weights.copy()\n",
        "\n",
        "            print(f\"Loss: {loss:.4f}\")\n",
        "            return loss\n",
        "        except Exception as e:\n",
        "            print(f\"Error in loss calculation: {e}\")\n",
        "            return float('inf')\n"
      ],
      "metadata": {
        "id": "abKZSwostrtA"
      },
      "execution_count": 7,
      "outputs": []
    },
    {
      "cell_type": "code",
      "source": [
        "def create_enhanced_circuit(n_qubits):\n",
        "    circuit = QuantumCircuit(n_qubits)\n",
        "    for i in range(n_qubits):\n",
        "        circuit.h(i)\n",
        "        circuit.ry(Parameter(f'theta_{i}'), i)\n",
        "    for i in range(n_qubits-1):\n",
        "        circuit.cx(i, i+1)\n",
        "    for i in range(n_qubits):\n",
        "        circuit.ry(Parameter(f'phi_{i}'), i)\n",
        "    return circuit\n",
        "\n",
        "# Let's create a test class with just the basic structure just in case\n",
        "class TestQMLTrainer:\n",
        "    def __init__(self, n_qubits, X_train, y_train):\n",
        "        print(\"Initializing TestQMLTrainer\")\n",
        "        self.X_train = X_train\n",
        "        self.y_train = y_train\n",
        "        self.feature_map = create_enhanced_circuit(n_qubits)\n",
        "        self.estimator = Estimator()\n",
        "        self.qnn = EstimatorQNN(\n",
        "            circuit=self.feature_map,\n",
        "            input_params=self.feature_map.parameters[:n_qubits],\n",
        "            weight_params=self.feature_map.parameters[n_qubits:],\n",
        "            estimator=self.estimator\n",
        "        )\n",
        "        self.best_loss = float('inf')\n",
        "        self.best_weights = None\n",
        "\n",
        "    def test_method(self):\n",
        "        print(\"Test method works!\")\n",
        "\n",
        "    def loss_fn(self, weights):\n",
        "        print(\"Computing loss\")\n",
        "        try:\n",
        "            y_pred = self.qnn.forward(self.X_train, weights)\n",
        "            loss = -accuracy_score(self.y_train, np.sign(y_pred))\n",
        "            if loss < self.best_loss:\n",
        "                self.best_loss = loss\n",
        "                self.best_weights = weights.copy()\n",
        "            return loss\n",
        "        except Exception as e:\n",
        "            print(f\"Error in loss calculation: {e}\")\n",
        "            return float('inf')\n",
        "\n",
        "    def train(self, initial_point, maxiter=300):\n",
        "        print(\"Training started\")\n",
        "        start_time = time.time()\n",
        "        opt_result = minimize(\n",
        "            self.loss_fn,\n",
        "            initial_point,\n",
        "            method='COBYLA',\n",
        "            options={'maxiter': maxiter, 'tol': 1e-3}\n",
        "        )\n",
        "        training_time = time.time() - start_time\n",
        "        print(f\"Training completed in {training_time:.2f} seconds\")\n",
        "        return opt_result, self.best_weights"
      ],
      "metadata": {
        "id": "Bv0r9VVcw59N"
      },
      "execution_count": 8,
      "outputs": []
    },
    {
      "cell_type": "code",
      "source": [
        "def train(self, initial_point, maxiter=300):\n",
        "        start_time = time.time()\n",
        "\n",
        "        opt_result = minimize(\n",
        "            self.loss_fn,\n",
        "            initial_point,\n",
        "            method='COBYLA',\n",
        "            options={'maxiter': maxiter, 'tol': 1e-3,  'rhobeg': 1.0}\n",
        "        )\n",
        "\n",
        "        training_time = time.time() - start_time\n",
        "        print(f\"\\nTraining completed in {training_time:.2f} seconds\")\n",
        "        return opt_result, self.best_weights\n"
      ],
      "metadata": {
        "id": "50mFb9LGt1Fk"
      },
      "execution_count": 9,
      "outputs": []
    },
    {
      "cell_type": "code",
      "source": [
        "# Prepare data for quantum model\n",
        "X_train_data = train_data[numeric_columns].values\n",
        "X_test_data = test_data[numeric_columns].values\n",
        "y_train = train_data['label'].values\n",
        "y_test = test_data['label'].values"
      ],
      "metadata": {
        "id": "kP4LCCqmt7g7"
      },
      "execution_count": 10,
      "outputs": []
    },
    {
      "cell_type": "code",
      "source": [
        "# Preprocess data\n",
        "X_train_reduced, X_test_reduced = preprocess_data(X_train_data, X_test_data, n_samples=200, n_components=4)\n",
        "\n",
        "print(\"Data shapes after preprocessing:\")\n",
        "print(f\"X_train_reduced shape: {X_train_reduced.shape}\")\n",
        "print(f\"X_test_reduced shape: {X_test_reduced.shape}\")\n"
      ],
      "metadata": {
        "colab": {
          "base_uri": "https://localhost:8080/"
        },
        "collapsed": true,
        "id": "xeQ-NoCPuAqq",
        "outputId": "5e877296-38ab-4933-8b86-3839ef131977"
      },
      "execution_count": 11,
      "outputs": [
        {
          "output_type": "stream",
          "name": "stdout",
          "text": [
            "Data shapes after preprocessing:\n",
            "X_train_reduced shape: (200, 4)\n",
            "X_test_reduced shape: (22544, 4)\n"
          ]
        }
      ]
    },
    {
      "cell_type": "code",
      "source": [
        "# Initialize and train model\n",
        "n_qubits = X_train_reduced.shape[1]  # Number of features after PCA\n",
        "trainer = QMLTrainer(n_qubits, X_train_reduced, y_train[:200])\n",
        "initial_point = np.random.rand(len(trainer.qnn.weight_params))\n",
        "print(\"\\nStarting model training...\")"
      ],
      "metadata": {
        "colab": {
          "base_uri": "https://localhost:8080/"
        },
        "id": "Ehi5SZs0utP1",
        "outputId": "e31a97fb-8eb5-4dc7-c52e-a5c6c0c38ae8"
      },
      "execution_count": 12,
      "outputs": [
        {
          "output_type": "stream",
          "name": "stdout",
          "text": [
            "\n",
            "Starting model training...\n"
          ]
        },
        {
          "output_type": "stream",
          "name": "stderr",
          "text": [
            "<ipython-input-7-072dd654b5a7>:5: DeprecationWarning: The class ``qiskit.primitives.estimator.Estimator`` is deprecated as of qiskit 1.2. It will be removed no earlier than 3 months after the release date. All implementations of the `BaseEstimatorV1` interface have been deprecated in favor of their V2 counterparts. The V2 alternative for the `Estimator` class is `StatevectorEstimator`.\n",
            "  self.estimator = Estimator()\n"
          ]
        }
      ]
    },
    {
      "cell_type": "code",
      "source": [
        "# Test class creation\n",
        "trainer = TestQMLTrainer(n_qubits, X_train_reduced, y_train[:200])\n",
        "print(\"Trainer created successfully\")"
      ],
      "metadata": {
        "colab": {
          "base_uri": "https://localhost:8080/"
        },
        "id": "OWDdUdZwxBKS",
        "outputId": "be973d02-18ff-4aa9-b67f-cc4a50450599"
      },
      "execution_count": 13,
      "outputs": [
        {
          "output_type": "stream",
          "name": "stdout",
          "text": [
            "Initializing TestQMLTrainer\n",
            "Trainer created successfully\n"
          ]
        },
        {
          "output_type": "stream",
          "name": "stderr",
          "text": [
            "<ipython-input-8-bb49ee3e7c16>:19: DeprecationWarning: The class ``qiskit.primitives.estimator.Estimator`` is deprecated as of qiskit 1.2. It will be removed no earlier than 3 months after the release date. All implementations of the `BaseEstimatorV1` interface have been deprecated in favor of their V2 counterparts. The V2 alternative for the `Estimator` class is `StatevectorEstimator`.\n",
            "  self.estimator = Estimator()\n"
          ]
        }
      ]
    },
    {
      "cell_type": "code",
      "source": [
        "# Cell 2: Test basic method\n",
        "trainer.test_method()"
      ],
      "metadata": {
        "colab": {
          "base_uri": "https://localhost:8080/"
        },
        "id": "D7NnoLbnxCBJ",
        "outputId": "7615b183-19f3-4722-fb33-3cf604b9163c"
      },
      "execution_count": 14,
      "outputs": [
        {
          "output_type": "stream",
          "name": "stdout",
          "text": [
            "Test method works!\n"
          ]
        }
      ]
    },
    {
      "cell_type": "code",
      "source": [
        "# Cell 3: Test loss function with random weights\n",
        "initial_point = np.random.rand(len(trainer.qnn.weight_params))\n",
        "test_loss = trainer.loss_fn(initial_point)\n",
        "print(f\"Test loss: {test_loss}\")"
      ],
      "metadata": {
        "colab": {
          "base_uri": "https://localhost:8080/"
        },
        "id": "alVRapzJxGIq",
        "outputId": "b59804c3-c04b-4629-b7f8-e8a5fecfe18f"
      },
      "execution_count": 15,
      "outputs": [
        {
          "output_type": "stream",
          "name": "stdout",
          "text": [
            "Computing loss\n",
            "Test loss: -0.26\n"
          ]
        }
      ]
    },
    {
      "cell_type": "code",
      "source": [
        "# optimize results\n",
        "opt_result, best_weights = trainer.train(initial_point, maxiter=300)"
      ],
      "metadata": {
        "colab": {
          "base_uri": "https://localhost:8080/"
        },
        "id": "00RS63exuz6I",
        "outputId": "f671894a-7aa7-492e-c0e5-efe24109b5db"
      },
      "execution_count": 16,
      "outputs": [
        {
          "output_type": "stream",
          "name": "stdout",
          "text": [
            "Training started\n",
            "Computing loss\n",
            "Computing loss\n",
            "Computing loss\n",
            "Computing loss\n",
            "Computing loss\n",
            "Computing loss\n",
            "Computing loss\n",
            "Computing loss\n",
            "Computing loss\n",
            "Computing loss\n",
            "Computing loss\n",
            "Computing loss\n",
            "Computing loss\n",
            "Computing loss\n",
            "Computing loss\n",
            "Computing loss\n",
            "Computing loss\n",
            "Computing loss\n",
            "Computing loss\n",
            "Computing loss\n",
            "Computing loss\n",
            "Computing loss\n",
            "Computing loss\n",
            "Computing loss\n",
            "Computing loss\n",
            "Computing loss\n",
            "Computing loss\n",
            "Computing loss\n",
            "Computing loss\n",
            "Computing loss\n",
            "Computing loss\n",
            "Computing loss\n",
            "Computing loss\n",
            "Computing loss\n",
            "Computing loss\n",
            "Computing loss\n",
            "Computing loss\n",
            "Computing loss\n",
            "Computing loss\n",
            "Computing loss\n",
            "Computing loss\n",
            "Computing loss\n",
            "Training completed in 13.14 seconds\n"
          ]
        }
      ]
    },
    {
      "cell_type": "code",
      "source": [
        "# Evaluate model\n",
        "print(\"\\nEvaluating model...\")\n",
        "y_pred_test = trainer.qnn.forward(X_test_reduced, best_weights)\n",
        "accuracy = accuracy_score(y_test, np.sign(y_pred_test))\n",
        "print(f\"\\nFinal Test Accuracy: {accuracy * 100:.2f}%\")"
      ],
      "metadata": {
        "colab": {
          "base_uri": "https://localhost:8080/"
        },
        "id": "IrtMrITdu43e",
        "outputId": "2988453c-347a-4854-aecb-aa3e93cc3d1b"
      },
      "execution_count": 17,
      "outputs": [
        {
          "output_type": "stream",
          "name": "stdout",
          "text": [
            "\n",
            "Evaluating model...\n",
            "\n",
            "Final Test Accuracy: 91.34%\n"
          ]
        }
      ]
    },
    {
      "cell_type": "code",
      "source": [
        "# Print optimization results\n",
        "print(\"\\nOptimization Results:\")\n",
        "print(f\"Success: {opt_result.success}\")\n",
        "\n",
        "# Safely print number of iterations if available\n",
        "if hasattr(opt_result, 'nit'):\n",
        "    print(f\"Number of iterations: {opt_result.nit}\")\n",
        "else:\n",
        "    print(\"Number of iterations: Not available\")\n",
        "\n",
        "# Print final loss value\n",
        "if hasattr(opt_result, 'fun'):\n",
        "    print(f\"Final loss value: {opt_result.fun}\")\n",
        "else:\n",
        "    print(f\"Final loss value: {trainer.best_loss}\")\n",
        "\n",
        "# Print additional diagnostic information\n",
        "print(\"\\nAdditional Information:\")\n",
        "print(f\"Best loss found: {trainer.best_loss}\")\n",
        "if trainer.best_weights is not None:\n",
        "    print(f\"Best weights shape: {trainer.best_weights.shape}\")\n",
        "print(f\"Optimization message: {opt_result.message}\")"
      ],
      "metadata": {
        "colab": {
          "base_uri": "https://localhost:8080/"
        },
        "id": "X69o65Qlu7ag",
        "outputId": "a49bec34-b8ba-4f7b-8fcb-6eca2ae09238"
      },
      "execution_count": 18,
      "outputs": [
        {
          "output_type": "stream",
          "name": "stdout",
          "text": [
            "\n",
            "Optimization Results:\n",
            "Success: True\n",
            "Number of iterations: Not available\n",
            "Final loss value: -0.955\n",
            "\n",
            "Additional Information:\n",
            "Best loss found: -0.955\n",
            "Best weights shape: (4,)\n",
            "Optimization message: Optimization terminated successfully.\n"
          ]
        }
      ]
    }
  ]
}